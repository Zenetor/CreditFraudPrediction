{
 "cells": [
  {
   "cell_type": "markdown",
   "metadata": {},
   "source": [
    "# This is a simple random forest model for credit card fraud\n",
    "# Dataset: https://www.kaggle.com/mlg-ulb/creditcardfraud"
   ]
  },
  {
   "cell_type": "code",
   "execution_count": null,
   "metadata": {},
   "outputs": [],
   "source": [
    "using Queryverse\n",
    "using DataFrames\n",
    "using CSV\n",
    "using Plots\n",
    "using StatsBase\n",
    "using MLMetrics\n",
    "using  MLDataPattern\n",
    "using DecisionTree"
   ]
  },
  {
   "cell_type": "code",
   "execution_count": 68,
   "metadata": {},
   "outputs": [
    {
     "data": {
      "text/html": [
       "<table class=\"data-frame\"><thead><tr><th></th><th>Time</th><th>V1</th><th>V2</th><th>V3</th><th>V4</th><th>V5</th><th>V6</th></tr><tr><th></th><th>Float64</th><th>Float64</th><th>Float64</th><th>Float64</th><th>Float64</th><th>Float64</th><th>Float64</th></tr></thead><tbody><p>284,807 rows × 31 columns (omitted printing of 24 columns)</p><tr><th>1</th><td>0.0</td><td>-1.35981</td><td>-0.0727812</td><td>2.53635</td><td>1.37816</td><td>-0.338321</td><td>0.462388</td></tr><tr><th>2</th><td>0.0</td><td>1.19186</td><td>0.266151</td><td>0.16648</td><td>0.448154</td><td>0.0600176</td><td>-0.0823608</td></tr><tr><th>3</th><td>1.0</td><td>-1.35835</td><td>-1.34016</td><td>1.77321</td><td>0.37978</td><td>-0.503198</td><td>1.8005</td></tr><tr><th>4</th><td>1.0</td><td>-0.966272</td><td>-0.185226</td><td>1.79299</td><td>-0.863291</td><td>-0.0103089</td><td>1.2472</td></tr><tr><th>5</th><td>2.0</td><td>-1.15823</td><td>0.877737</td><td>1.54872</td><td>0.403034</td><td>-0.407193</td><td>0.0959215</td></tr><tr><th>6</th><td>2.0</td><td>-0.425966</td><td>0.960523</td><td>1.14111</td><td>-0.168252</td><td>0.420987</td><td>-0.0297276</td></tr><tr><th>7</th><td>4.0</td><td>1.22966</td><td>0.141004</td><td>0.0453708</td><td>1.20261</td><td>0.191881</td><td>0.272708</td></tr><tr><th>8</th><td>7.0</td><td>-0.644269</td><td>1.41796</td><td>1.07438</td><td>-0.492199</td><td>0.948934</td><td>0.428118</td></tr><tr><th>9</th><td>7.0</td><td>-0.894286</td><td>0.286157</td><td>-0.113192</td><td>-0.271526</td><td>2.6696</td><td>3.72182</td></tr><tr><th>10</th><td>9.0</td><td>-0.338262</td><td>1.11959</td><td>1.04437</td><td>-0.222187</td><td>0.499361</td><td>-0.246761</td></tr><tr><th>11</th><td>10.0</td><td>1.44904</td><td>-1.17634</td><td>0.91386</td><td>-1.37567</td><td>-1.97138</td><td>-0.629152</td></tr><tr><th>12</th><td>10.0</td><td>0.384978</td><td>0.616109</td><td>-0.8743</td><td>-0.0940186</td><td>2.92458</td><td>3.31703</td></tr><tr><th>13</th><td>10.0</td><td>1.25</td><td>-1.22164</td><td>0.38393</td><td>-1.2349</td><td>-1.48542</td><td>-0.75323</td></tr><tr><th>14</th><td>11.0</td><td>1.06937</td><td>0.287722</td><td>0.828613</td><td>2.71252</td><td>-0.178398</td><td>0.337544</td></tr><tr><th>15</th><td>12.0</td><td>-2.79185</td><td>-0.327771</td><td>1.64175</td><td>1.76747</td><td>-0.136588</td><td>0.807596</td></tr><tr><th>16</th><td>12.0</td><td>-0.752417</td><td>0.345485</td><td>2.05732</td><td>-1.46864</td><td>-1.15839</td><td>-0.0778498</td></tr><tr><th>17</th><td>12.0</td><td>1.10322</td><td>-0.0402962</td><td>1.26733</td><td>1.28909</td><td>-0.735997</td><td>0.288069</td></tr><tr><th>18</th><td>13.0</td><td>-0.436905</td><td>0.918966</td><td>0.924591</td><td>-0.727219</td><td>0.915679</td><td>-0.127867</td></tr><tr><th>19</th><td>14.0</td><td>-5.40126</td><td>-5.45015</td><td>1.1863</td><td>1.73624</td><td>3.04911</td><td>-1.76341</td></tr><tr><th>20</th><td>15.0</td><td>1.49294</td><td>-1.02935</td><td>0.454795</td><td>-1.43803</td><td>-1.55543</td><td>-0.720961</td></tr><tr><th>21</th><td>16.0</td><td>0.694885</td><td>-1.36182</td><td>1.02922</td><td>0.834159</td><td>-1.19121</td><td>1.30911</td></tr><tr><th>22</th><td>17.0</td><td>0.962496</td><td>0.328461</td><td>-0.171479</td><td>2.1092</td><td>1.12957</td><td>1.69604</td></tr><tr><th>23</th><td>18.0</td><td>1.16662</td><td>0.50212</td><td>-0.0673003</td><td>2.26157</td><td>0.428804</td><td>0.0894735</td></tr><tr><th>24</th><td>18.0</td><td>0.247491</td><td>0.277666</td><td>1.18547</td><td>-0.0926025</td><td>-1.31439</td><td>-0.150116</td></tr><tr><th>25</th><td>22.0</td><td>-1.94653</td><td>-0.0449005</td><td>-0.40557</td><td>-1.01306</td><td>2.94197</td><td>2.95505</td></tr><tr><th>26</th><td>22.0</td><td>-2.07429</td><td>-0.121482</td><td>1.32202</td><td>0.410008</td><td>0.295198</td><td>-0.959537</td></tr><tr><th>27</th><td>23.0</td><td>1.17328</td><td>0.353498</td><td>0.283905</td><td>1.13356</td><td>-0.172577</td><td>-0.916054</td></tr><tr><th>28</th><td>23.0</td><td>1.32271</td><td>-0.174041</td><td>0.434555</td><td>0.576038</td><td>-0.836758</td><td>-0.831083</td></tr><tr><th>29</th><td>23.0</td><td>-0.414289</td><td>0.905437</td><td>1.72745</td><td>1.47347</td><td>0.00744274</td><td>-0.200331</td></tr><tr><th>30</th><td>23.0</td><td>1.05939</td><td>-0.175319</td><td>1.26613</td><td>1.18611</td><td>-0.786002</td><td>0.578435</td></tr><tr><th>&vellip;</th><td>&vellip;</td><td>&vellip;</td><td>&vellip;</td><td>&vellip;</td><td>&vellip;</td><td>&vellip;</td><td>&vellip;</td></tr></tbody></table>"
      ],
      "text/latex": [
       "\\begin{tabular}{r|cccccccc}\n",
       "\t& Time & V1 & V2 & V3 & V4 & V5 & V6 & \\\\\n",
       "\t\\hline\n",
       "\t& Float64 & Float64 & Float64 & Float64 & Float64 & Float64 & Float64 & \\\\\n",
       "\t\\hline\n",
       "\t1 & 0.0 & -1.35981 & -0.0727812 & 2.53635 & 1.37816 & -0.338321 & 0.462388 & $\\dots$ \\\\\n",
       "\t2 & 0.0 & 1.19186 & 0.266151 & 0.16648 & 0.448154 & 0.0600176 & -0.0823608 & $\\dots$ \\\\\n",
       "\t3 & 1.0 & -1.35835 & -1.34016 & 1.77321 & 0.37978 & -0.503198 & 1.8005 & $\\dots$ \\\\\n",
       "\t4 & 1.0 & -0.966272 & -0.185226 & 1.79299 & -0.863291 & -0.0103089 & 1.2472 & $\\dots$ \\\\\n",
       "\t5 & 2.0 & -1.15823 & 0.877737 & 1.54872 & 0.403034 & -0.407193 & 0.0959215 & $\\dots$ \\\\\n",
       "\t6 & 2.0 & -0.425966 & 0.960523 & 1.14111 & -0.168252 & 0.420987 & -0.0297276 & $\\dots$ \\\\\n",
       "\t7 & 4.0 & 1.22966 & 0.141004 & 0.0453708 & 1.20261 & 0.191881 & 0.272708 & $\\dots$ \\\\\n",
       "\t8 & 7.0 & -0.644269 & 1.41796 & 1.07438 & -0.492199 & 0.948934 & 0.428118 & $\\dots$ \\\\\n",
       "\t9 & 7.0 & -0.894286 & 0.286157 & -0.113192 & -0.271526 & 2.6696 & 3.72182 & $\\dots$ \\\\\n",
       "\t10 & 9.0 & -0.338262 & 1.11959 & 1.04437 & -0.222187 & 0.499361 & -0.246761 & $\\dots$ \\\\\n",
       "\t11 & 10.0 & 1.44904 & -1.17634 & 0.91386 & -1.37567 & -1.97138 & -0.629152 & $\\dots$ \\\\\n",
       "\t12 & 10.0 & 0.384978 & 0.616109 & -0.8743 & -0.0940186 & 2.92458 & 3.31703 & $\\dots$ \\\\\n",
       "\t13 & 10.0 & 1.25 & -1.22164 & 0.38393 & -1.2349 & -1.48542 & -0.75323 & $\\dots$ \\\\\n",
       "\t14 & 11.0 & 1.06937 & 0.287722 & 0.828613 & 2.71252 & -0.178398 & 0.337544 & $\\dots$ \\\\\n",
       "\t15 & 12.0 & -2.79185 & -0.327771 & 1.64175 & 1.76747 & -0.136588 & 0.807596 & $\\dots$ \\\\\n",
       "\t16 & 12.0 & -0.752417 & 0.345485 & 2.05732 & -1.46864 & -1.15839 & -0.0778498 & $\\dots$ \\\\\n",
       "\t17 & 12.0 & 1.10322 & -0.0402962 & 1.26733 & 1.28909 & -0.735997 & 0.288069 & $\\dots$ \\\\\n",
       "\t18 & 13.0 & -0.436905 & 0.918966 & 0.924591 & -0.727219 & 0.915679 & -0.127867 & $\\dots$ \\\\\n",
       "\t19 & 14.0 & -5.40126 & -5.45015 & 1.1863 & 1.73624 & 3.04911 & -1.76341 & $\\dots$ \\\\\n",
       "\t20 & 15.0 & 1.49294 & -1.02935 & 0.454795 & -1.43803 & -1.55543 & -0.720961 & $\\dots$ \\\\\n",
       "\t21 & 16.0 & 0.694885 & -1.36182 & 1.02922 & 0.834159 & -1.19121 & 1.30911 & $\\dots$ \\\\\n",
       "\t22 & 17.0 & 0.962496 & 0.328461 & -0.171479 & 2.1092 & 1.12957 & 1.69604 & $\\dots$ \\\\\n",
       "\t23 & 18.0 & 1.16662 & 0.50212 & -0.0673003 & 2.26157 & 0.428804 & 0.0894735 & $\\dots$ \\\\\n",
       "\t24 & 18.0 & 0.247491 & 0.277666 & 1.18547 & -0.0926025 & -1.31439 & -0.150116 & $\\dots$ \\\\\n",
       "\t25 & 22.0 & -1.94653 & -0.0449005 & -0.40557 & -1.01306 & 2.94197 & 2.95505 & $\\dots$ \\\\\n",
       "\t26 & 22.0 & -2.07429 & -0.121482 & 1.32202 & 0.410008 & 0.295198 & -0.959537 & $\\dots$ \\\\\n",
       "\t27 & 23.0 & 1.17328 & 0.353498 & 0.283905 & 1.13356 & -0.172577 & -0.916054 & $\\dots$ \\\\\n",
       "\t28 & 23.0 & 1.32271 & -0.174041 & 0.434555 & 0.576038 & -0.836758 & -0.831083 & $\\dots$ \\\\\n",
       "\t29 & 23.0 & -0.414289 & 0.905437 & 1.72745 & 1.47347 & 0.00744274 & -0.200331 & $\\dots$ \\\\\n",
       "\t30 & 23.0 & 1.05939 & -0.175319 & 1.26613 & 1.18611 & -0.786002 & 0.578435 & $\\dots$ \\\\\n",
       "\t$\\dots$ & $\\dots$ & $\\dots$ & $\\dots$ & $\\dots$ & $\\dots$ & $\\dots$ & $\\dots$ &  \\\\\n",
       "\\end{tabular}\n"
      ],
      "text/plain": [
       "284807×31 DataFrame. Omitted printing of 26 columns\n",
       "│ Row    │ Time     │ V1        │ V2         │ V3        │ V4        │\n",
       "│        │ \u001b[90mFloat64\u001b[39m  │ \u001b[90mFloat64\u001b[39m   │ \u001b[90mFloat64\u001b[39m    │ \u001b[90mFloat64\u001b[39m   │ \u001b[90mFloat64\u001b[39m   │\n",
       "├────────┼──────────┼───────────┼────────────┼───────────┼───────────┤\n",
       "│ 1      │ 0.0      │ -1.35981  │ -0.0727812 │ 2.53635   │ 1.37816   │\n",
       "│ 2      │ 0.0      │ 1.19186   │ 0.266151   │ 0.16648   │ 0.448154  │\n",
       "│ 3      │ 1.0      │ -1.35835  │ -1.34016   │ 1.77321   │ 0.37978   │\n",
       "│ 4      │ 1.0      │ -0.966272 │ -0.185226  │ 1.79299   │ -0.863291 │\n",
       "│ 5      │ 2.0      │ -1.15823  │ 0.877737   │ 1.54872   │ 0.403034  │\n",
       "│ 6      │ 2.0      │ -0.425966 │ 0.960523   │ 1.14111   │ -0.168252 │\n",
       "│ 7      │ 4.0      │ 1.22966   │ 0.141004   │ 0.0453708 │ 1.20261   │\n",
       "│ 8      │ 7.0      │ -0.644269 │ 1.41796    │ 1.07438   │ -0.492199 │\n",
       "│ 9      │ 7.0      │ -0.894286 │ 0.286157   │ -0.113192 │ -0.271526 │\n",
       "│ 10     │ 9.0      │ -0.338262 │ 1.11959    │ 1.04437   │ -0.222187 │\n",
       "⋮\n",
       "│ 284797 │ 172780.0 │ 1.88485   │ -0.14354   │ -0.999943 │ 1.50677   │\n",
       "│ 284798 │ 172782.0 │ -0.241923 │ 0.712247   │ 0.399806  │ -0.463406 │\n",
       "│ 284799 │ 172782.0 │ 0.219529  │ 0.881246   │ -0.635891 │ 0.960928  │\n",
       "│ 284800 │ 172783.0 │ -1.77513  │ -0.0042354 │ 1.18979   │ 0.331096  │\n",
       "│ 284801 │ 172784.0 │ 2.03956   │ -0.175233  │ -1.19683  │ 0.23458   │\n",
       "│ 284802 │ 172785.0 │ 0.120316  │ 0.931005   │ -0.546012 │ -0.745097 │\n",
       "│ 284803 │ 172786.0 │ -11.8811  │ 10.0718    │ -9.83478  │ -2.06666  │\n",
       "│ 284804 │ 172787.0 │ -0.732789 │ -0.0550805 │ 2.03503   │ -0.738589 │\n",
       "│ 284805 │ 172788.0 │ 1.91957   │ -0.301254  │ -3.24964  │ -0.557828 │\n",
       "│ 284806 │ 172788.0 │ -0.24044  │ 0.530483   │ 0.70251   │ 0.689799  │\n",
       "│ 284807 │ 172792.0 │ -0.533413 │ -0.189733  │ 0.703337  │ -0.506271 │"
      ]
     },
     "execution_count": 68,
     "metadata": {},
     "output_type": "execute_result"
    }
   ],
   "source": [
    "df = CSV.read(\"creditcard.csv\") |> DataFrame"
   ]
  },
  {
   "cell_type": "code",
   "execution_count": 3,
   "metadata": {},
   "outputs": [
    {
     "data": {
      "text/plain": [
       "31-element Array{Symbol,1}:\n",
       " :Time  \n",
       " :V1    \n",
       " :V2    \n",
       " :V3    \n",
       " :V4    \n",
       " :V5    \n",
       " :V6    \n",
       " :V7    \n",
       " :V8    \n",
       " :V9    \n",
       " :V10   \n",
       " :V11   \n",
       " :V12   \n",
       " ⋮      \n",
       " :V19   \n",
       " :V20   \n",
       " :V21   \n",
       " :V22   \n",
       " :V23   \n",
       " :V24   \n",
       " :V25   \n",
       " :V26   \n",
       " :V27   \n",
       " :V28   \n",
       " :Amount\n",
       " :Class "
      ]
     },
     "execution_count": 3,
     "metadata": {},
     "output_type": "execute_result"
    }
   ],
   "source": [
    "names(df)"
   ]
  },
  {
   "cell_type": "code",
   "execution_count": 5,
   "metadata": {},
   "outputs": [
    {
     "data": {
      "image/svg+xml": [
       "<?xml version=\"1.0\" encoding=\"utf-8\"?>\n",
       "<svg xmlns=\"http://www.w3.org/2000/svg\" xmlns:xlink=\"http://www.w3.org/1999/xlink\" width=\"600\" height=\"400\" viewBox=\"0 0 2400 1600\">\n",
       "<defs>\n",
       "  <clipPath id=\"clip5300\">\n",
       "    <rect x=\"0\" y=\"0\" width=\"2400\" height=\"1600\"/>\n",
       "  </clipPath>\n",
       "</defs>\n",
       "<path clip-path=\"url(#clip5300)\" d=\"\n",
       "M0 1600 L2400 1600 L2400 0 L0 0  Z\n",
       "  \" fill=\"#ffffff\" fill-rule=\"evenodd\" fill-opacity=\"1\"/>\n",
       "<defs>\n",
       "  <clipPath id=\"clip5301\">\n",
       "    <rect x=\"480\" y=\"0\" width=\"1681\" height=\"1600\"/>\n",
       "  </clipPath>\n",
       "</defs>\n",
       "<path clip-path=\"url(#clip5300)\" d=\"\n",
       "M301.332 1487.47 L2352.76 1487.47 L2352.76 47.2441 L301.332 47.2441  Z\n",
       "  \" fill=\"#ffffff\" fill-rule=\"evenodd\" fill-opacity=\"1\"/>\n",
       "<defs>\n",
       "  <clipPath id=\"clip5302\">\n",
       "    <rect x=\"301\" y=\"47\" width=\"2052\" height=\"1441\"/>\n",
       "  </clipPath>\n",
       "</defs>\n",
       "<polyline clip-path=\"url(#clip5302)\" style=\"stroke:#000000; stroke-width:2; stroke-opacity:0.1; fill:none\" points=\"\n",
       "  414.164,1487.47 414.164,47.2441 \n",
       "  \"/>\n",
       "<polyline clip-path=\"url(#clip5302)\" style=\"stroke:#000000; stroke-width:2; stroke-opacity:0.1; fill:none\" points=\"\n",
       "  848.868,1487.47 848.868,47.2441 \n",
       "  \"/>\n",
       "<polyline clip-path=\"url(#clip5302)\" style=\"stroke:#000000; stroke-width:2; stroke-opacity:0.1; fill:none\" points=\"\n",
       "  1283.57,1487.47 1283.57,47.2441 \n",
       "  \"/>\n",
       "<polyline clip-path=\"url(#clip5302)\" style=\"stroke:#000000; stroke-width:2; stroke-opacity:0.1; fill:none\" points=\"\n",
       "  1718.28,1487.47 1718.28,47.2441 \n",
       "  \"/>\n",
       "<polyline clip-path=\"url(#clip5302)\" style=\"stroke:#000000; stroke-width:2; stroke-opacity:0.1; fill:none\" points=\"\n",
       "  2152.98,1487.47 2152.98,47.2441 \n",
       "  \"/>\n",
       "<polyline clip-path=\"url(#clip5302)\" style=\"stroke:#000000; stroke-width:2; stroke-opacity:0.1; fill:none\" points=\"\n",
       "  301.332,1446.71 2352.76,1446.71 \n",
       "  \"/>\n",
       "<polyline clip-path=\"url(#clip5302)\" style=\"stroke:#000000; stroke-width:2; stroke-opacity:0.1; fill:none\" points=\"\n",
       "  301.332,1207.77 2352.76,1207.77 \n",
       "  \"/>\n",
       "<polyline clip-path=\"url(#clip5302)\" style=\"stroke:#000000; stroke-width:2; stroke-opacity:0.1; fill:none\" points=\"\n",
       "  301.332,968.825 2352.76,968.825 \n",
       "  \"/>\n",
       "<polyline clip-path=\"url(#clip5302)\" style=\"stroke:#000000; stroke-width:2; stroke-opacity:0.1; fill:none\" points=\"\n",
       "  301.332,729.881 2352.76,729.881 \n",
       "  \"/>\n",
       "<polyline clip-path=\"url(#clip5302)\" style=\"stroke:#000000; stroke-width:2; stroke-opacity:0.1; fill:none\" points=\"\n",
       "  301.332,490.937 2352.76,490.937 \n",
       "  \"/>\n",
       "<polyline clip-path=\"url(#clip5302)\" style=\"stroke:#000000; stroke-width:2; stroke-opacity:0.1; fill:none\" points=\"\n",
       "  301.332,251.993 2352.76,251.993 \n",
       "  \"/>\n",
       "<polyline clip-path=\"url(#clip5300)\" style=\"stroke:#000000; stroke-width:4; stroke-opacity:1; fill:none\" points=\"\n",
       "  301.332,1487.47 2352.76,1487.47 \n",
       "  \"/>\n",
       "<polyline clip-path=\"url(#clip5300)\" style=\"stroke:#000000; stroke-width:4; stroke-opacity:1; fill:none\" points=\"\n",
       "  301.332,1487.47 301.332,47.2441 \n",
       "  \"/>\n",
       "<polyline clip-path=\"url(#clip5300)\" style=\"stroke:#000000; stroke-width:4; stroke-opacity:1; fill:none\" points=\"\n",
       "  414.164,1487.47 414.164,1470.19 \n",
       "  \"/>\n",
       "<polyline clip-path=\"url(#clip5300)\" style=\"stroke:#000000; stroke-width:4; stroke-opacity:1; fill:none\" points=\"\n",
       "  848.868,1487.47 848.868,1470.19 \n",
       "  \"/>\n",
       "<polyline clip-path=\"url(#clip5300)\" style=\"stroke:#000000; stroke-width:4; stroke-opacity:1; fill:none\" points=\"\n",
       "  1283.57,1487.47 1283.57,1470.19 \n",
       "  \"/>\n",
       "<polyline clip-path=\"url(#clip5300)\" style=\"stroke:#000000; stroke-width:4; stroke-opacity:1; fill:none\" points=\"\n",
       "  1718.28,1487.47 1718.28,1470.19 \n",
       "  \"/>\n",
       "<polyline clip-path=\"url(#clip5300)\" style=\"stroke:#000000; stroke-width:4; stroke-opacity:1; fill:none\" points=\"\n",
       "  2152.98,1487.47 2152.98,1470.19 \n",
       "  \"/>\n",
       "<polyline clip-path=\"url(#clip5300)\" style=\"stroke:#000000; stroke-width:4; stroke-opacity:1; fill:none\" points=\"\n",
       "  301.332,1446.71 325.949,1446.71 \n",
       "  \"/>\n",
       "<polyline clip-path=\"url(#clip5300)\" style=\"stroke:#000000; stroke-width:4; stroke-opacity:1; fill:none\" points=\"\n",
       "  301.332,1207.77 325.949,1207.77 \n",
       "  \"/>\n",
       "<polyline clip-path=\"url(#clip5300)\" style=\"stroke:#000000; stroke-width:4; stroke-opacity:1; fill:none\" points=\"\n",
       "  301.332,968.825 325.949,968.825 \n",
       "  \"/>\n",
       "<polyline clip-path=\"url(#clip5300)\" style=\"stroke:#000000; stroke-width:4; stroke-opacity:1; fill:none\" points=\"\n",
       "  301.332,729.881 325.949,729.881 \n",
       "  \"/>\n",
       "<polyline clip-path=\"url(#clip5300)\" style=\"stroke:#000000; stroke-width:4; stroke-opacity:1; fill:none\" points=\"\n",
       "  301.332,490.937 325.949,490.937 \n",
       "  \"/>\n",
       "<polyline clip-path=\"url(#clip5300)\" style=\"stroke:#000000; stroke-width:4; stroke-opacity:1; fill:none\" points=\"\n",
       "  301.332,251.993 325.949,251.993 \n",
       "  \"/>\n",
       "<g clip-path=\"url(#clip5300)\">\n",
       "<text style=\"fill:#000000; fill-opacity:1; font-family:Arial,Helvetica Neue,Helvetica,sans-serif; font-size:48px; text-anchor:middle;\" transform=\"rotate(0, 414.164, 1541.47)\" x=\"414.164\" y=\"1541.47\">0.00</text>\n",
       "</g>\n",
       "<g clip-path=\"url(#clip5300)\">\n",
       "<text style=\"fill:#000000; fill-opacity:1; font-family:Arial,Helvetica Neue,Helvetica,sans-serif; font-size:48px; text-anchor:middle;\" transform=\"rotate(0, 848.868, 1541.47)\" x=\"848.868\" y=\"1541.47\">0.25</text>\n",
       "</g>\n",
       "<g clip-path=\"url(#clip5300)\">\n",
       "<text style=\"fill:#000000; fill-opacity:1; font-family:Arial,Helvetica Neue,Helvetica,sans-serif; font-size:48px; text-anchor:middle;\" transform=\"rotate(0, 1283.57, 1541.47)\" x=\"1283.57\" y=\"1541.47\">0.50</text>\n",
       "</g>\n",
       "<g clip-path=\"url(#clip5300)\">\n",
       "<text style=\"fill:#000000; fill-opacity:1; font-family:Arial,Helvetica Neue,Helvetica,sans-serif; font-size:48px; text-anchor:middle;\" transform=\"rotate(0, 1718.28, 1541.47)\" x=\"1718.28\" y=\"1541.47\">0.75</text>\n",
       "</g>\n",
       "<g clip-path=\"url(#clip5300)\">\n",
       "<text style=\"fill:#000000; fill-opacity:1; font-family:Arial,Helvetica Neue,Helvetica,sans-serif; font-size:48px; text-anchor:middle;\" transform=\"rotate(0, 2152.98, 1541.47)\" x=\"2152.98\" y=\"1541.47\">1.00</text>\n",
       "</g>\n",
       "<g clip-path=\"url(#clip5300)\">\n",
       "<text style=\"fill:#000000; fill-opacity:1; font-family:Arial,Helvetica Neue,Helvetica,sans-serif; font-size:48px; text-anchor:end;\" transform=\"rotate(0, 277.332, 1464.21)\" x=\"277.332\" y=\"1464.21\">0</text>\n",
       "</g>\n",
       "<g clip-path=\"url(#clip5300)\">\n",
       "<text style=\"fill:#000000; fill-opacity:1; font-family:Arial,Helvetica Neue,Helvetica,sans-serif; font-size:48px; text-anchor:start;\" transform=\"rotate(0, 107.046, 1231.5)\" x=\"107.046\" y=\"1231.5\">5.0×10</text>\n",
       "</g>\n",
       "<g clip-path=\"url(#clip5300)\">\n",
       "<text style=\"fill:#000000; fill-opacity:1; font-family:Arial,Helvetica Neue,Helvetica,sans-serif; font-size:38px; text-anchor:start;\" transform=\"rotate(0, 255.587, 1204.09)\" x=\"255.587\" y=\"1204.09\">4</text>\n",
       "</g>\n",
       "<g clip-path=\"url(#clip5300)\">\n",
       "<text style=\"fill:#000000; fill-opacity:1; font-family:Arial,Helvetica Neue,Helvetica,sans-serif; font-size:48px; text-anchor:start;\" transform=\"rotate(0, 107.046, 992.553)\" x=\"107.046\" y=\"992.553\">1.0×10</text>\n",
       "</g>\n",
       "<g clip-path=\"url(#clip5300)\">\n",
       "<text style=\"fill:#000000; fill-opacity:1; font-family:Arial,Helvetica Neue,Helvetica,sans-serif; font-size:38px; text-anchor:start;\" transform=\"rotate(0, 255.587, 965.142)\" x=\"255.587\" y=\"965.142\">5</text>\n",
       "</g>\n",
       "<g clip-path=\"url(#clip5300)\">\n",
       "<text style=\"fill:#000000; fill-opacity:1; font-family:Arial,Helvetica Neue,Helvetica,sans-serif; font-size:48px; text-anchor:start;\" transform=\"rotate(0, 107.046, 753.609)\" x=\"107.046\" y=\"753.609\">1.5×10</text>\n",
       "</g>\n",
       "<g clip-path=\"url(#clip5300)\">\n",
       "<text style=\"fill:#000000; fill-opacity:1; font-family:Arial,Helvetica Neue,Helvetica,sans-serif; font-size:38px; text-anchor:start;\" transform=\"rotate(0, 255.587, 726.198)\" x=\"255.587\" y=\"726.198\">5</text>\n",
       "</g>\n",
       "<g clip-path=\"url(#clip5300)\">\n",
       "<text style=\"fill:#000000; fill-opacity:1; font-family:Arial,Helvetica Neue,Helvetica,sans-serif; font-size:48px; text-anchor:start;\" transform=\"rotate(0, 107.046, 514.664)\" x=\"107.046\" y=\"514.664\">2.0×10</text>\n",
       "</g>\n",
       "<g clip-path=\"url(#clip5300)\">\n",
       "<text style=\"fill:#000000; fill-opacity:1; font-family:Arial,Helvetica Neue,Helvetica,sans-serif; font-size:38px; text-anchor:start;\" transform=\"rotate(0, 255.587, 487.254)\" x=\"255.587\" y=\"487.254\">5</text>\n",
       "</g>\n",
       "<g clip-path=\"url(#clip5300)\">\n",
       "<text style=\"fill:#000000; fill-opacity:1; font-family:Arial,Helvetica Neue,Helvetica,sans-serif; font-size:48px; text-anchor:start;\" transform=\"rotate(0, 107.046, 275.72)\" x=\"107.046\" y=\"275.72\">2.5×10</text>\n",
       "</g>\n",
       "<g clip-path=\"url(#clip5300)\">\n",
       "<text style=\"fill:#000000; fill-opacity:1; font-family:Arial,Helvetica Neue,Helvetica,sans-serif; font-size:38px; text-anchor:start;\" transform=\"rotate(0, 255.587, 248.31)\" x=\"255.587\" y=\"248.31\">5</text>\n",
       "</g>\n",
       "<path clip-path=\"url(#clip5302)\" d=\"\n",
       "M414.164 88.0053 L414.164 1446.71 L501.104 1446.71 L501.104 88.0053 L414.164 88.0053 L414.164 88.0053  Z\n",
       "  \" fill=\"#009af9\" fill-rule=\"evenodd\" fill-opacity=\"1\"/>\n",
       "<polyline clip-path=\"url(#clip5302)\" style=\"stroke:#000000; stroke-width:4; stroke-opacity:1; fill:none\" points=\"\n",
       "  414.164,88.0053 414.164,1446.71 501.104,1446.71 501.104,88.0053 414.164,88.0053 \n",
       "  \"/>\n",
       "<path clip-path=\"url(#clip5302)\" d=\"\n",
       "M501.104 1446.71 L501.104 1446.71 L588.045 1446.71 L588.045 1446.71 L501.104 1446.71 L501.104 1446.71  Z\n",
       "  \" fill=\"#009af9\" fill-rule=\"evenodd\" fill-opacity=\"1\"/>\n",
       "<polyline clip-path=\"url(#clip5302)\" style=\"stroke:#000000; stroke-width:4; stroke-opacity:1; fill:none\" points=\"\n",
       "  501.104,1446.71 501.104,1446.71 588.045,1446.71 501.104,1446.71 \n",
       "  \"/>\n",
       "<path clip-path=\"url(#clip5302)\" d=\"\n",
       "M588.045 1446.71 L588.045 1446.71 L674.986 1446.71 L674.986 1446.71 L588.045 1446.71 L588.045 1446.71  Z\n",
       "  \" fill=\"#009af9\" fill-rule=\"evenodd\" fill-opacity=\"1\"/>\n",
       "<polyline clip-path=\"url(#clip5302)\" style=\"stroke:#000000; stroke-width:4; stroke-opacity:1; fill:none\" points=\"\n",
       "  588.045,1446.71 588.045,1446.71 674.986,1446.71 588.045,1446.71 \n",
       "  \"/>\n",
       "<path clip-path=\"url(#clip5302)\" d=\"\n",
       "M674.986 1446.71 L674.986 1446.71 L761.927 1446.71 L761.927 1446.71 L674.986 1446.71 L674.986 1446.71  Z\n",
       "  \" fill=\"#009af9\" fill-rule=\"evenodd\" fill-opacity=\"1\"/>\n",
       "<polyline clip-path=\"url(#clip5302)\" style=\"stroke:#000000; stroke-width:4; stroke-opacity:1; fill:none\" points=\"\n",
       "  674.986,1446.71 674.986,1446.71 761.927,1446.71 674.986,1446.71 \n",
       "  \"/>\n",
       "<path clip-path=\"url(#clip5302)\" d=\"\n",
       "M761.927 1446.71 L761.927 1446.71 L848.868 1446.71 L848.868 1446.71 L761.927 1446.71 L761.927 1446.71  Z\n",
       "  \" fill=\"#009af9\" fill-rule=\"evenodd\" fill-opacity=\"1\"/>\n",
       "<polyline clip-path=\"url(#clip5302)\" style=\"stroke:#000000; stroke-width:4; stroke-opacity:1; fill:none\" points=\"\n",
       "  761.927,1446.71 761.927,1446.71 848.868,1446.71 761.927,1446.71 \n",
       "  \"/>\n",
       "<path clip-path=\"url(#clip5302)\" d=\"\n",
       "M848.868 1446.71 L848.868 1446.71 L935.809 1446.71 L935.809 1446.71 L848.868 1446.71 L848.868 1446.71  Z\n",
       "  \" fill=\"#009af9\" fill-rule=\"evenodd\" fill-opacity=\"1\"/>\n",
       "<polyline clip-path=\"url(#clip5302)\" style=\"stroke:#000000; stroke-width:4; stroke-opacity:1; fill:none\" points=\"\n",
       "  848.868,1446.71 848.868,1446.71 935.809,1446.71 848.868,1446.71 \n",
       "  \"/>\n",
       "<path clip-path=\"url(#clip5302)\" d=\"\n",
       "M935.809 1446.71 L935.809 1446.71 L1022.75 1446.71 L1022.75 1446.71 L935.809 1446.71 L935.809 1446.71  Z\n",
       "  \" fill=\"#009af9\" fill-rule=\"evenodd\" fill-opacity=\"1\"/>\n",
       "<polyline clip-path=\"url(#clip5302)\" style=\"stroke:#000000; stroke-width:4; stroke-opacity:1; fill:none\" points=\"\n",
       "  935.809,1446.71 935.809,1446.71 1022.75,1446.71 935.809,1446.71 \n",
       "  \"/>\n",
       "<path clip-path=\"url(#clip5302)\" d=\"\n",
       "M1022.75 1446.71 L1022.75 1446.71 L1109.69 1446.71 L1109.69 1446.71 L1022.75 1446.71 L1022.75 1446.71  Z\n",
       "  \" fill=\"#009af9\" fill-rule=\"evenodd\" fill-opacity=\"1\"/>\n",
       "<polyline clip-path=\"url(#clip5302)\" style=\"stroke:#000000; stroke-width:4; stroke-opacity:1; fill:none\" points=\"\n",
       "  1022.75,1446.71 1022.75,1446.71 1109.69,1446.71 1022.75,1446.71 \n",
       "  \"/>\n",
       "<path clip-path=\"url(#clip5302)\" d=\"\n",
       "M1109.69 1446.71 L1109.69 1446.71 L1196.63 1446.71 L1196.63 1446.71 L1109.69 1446.71 L1109.69 1446.71  Z\n",
       "  \" fill=\"#009af9\" fill-rule=\"evenodd\" fill-opacity=\"1\"/>\n",
       "<polyline clip-path=\"url(#clip5302)\" style=\"stroke:#000000; stroke-width:4; stroke-opacity:1; fill:none\" points=\"\n",
       "  1109.69,1446.71 1109.69,1446.71 1196.63,1446.71 1109.69,1446.71 \n",
       "  \"/>\n",
       "<path clip-path=\"url(#clip5302)\" d=\"\n",
       "M1196.63 1446.71 L1196.63 1446.71 L1283.57 1446.71 L1283.57 1446.71 L1196.63 1446.71 L1196.63 1446.71  Z\n",
       "  \" fill=\"#009af9\" fill-rule=\"evenodd\" fill-opacity=\"1\"/>\n",
       "<polyline clip-path=\"url(#clip5302)\" style=\"stroke:#000000; stroke-width:4; stroke-opacity:1; fill:none\" points=\"\n",
       "  1196.63,1446.71 1196.63,1446.71 1283.57,1446.71 1196.63,1446.71 \n",
       "  \"/>\n",
       "<path clip-path=\"url(#clip5302)\" d=\"\n",
       "M1283.57 1446.71 L1283.57 1446.71 L1370.51 1446.71 L1370.51 1446.71 L1283.57 1446.71 L1283.57 1446.71  Z\n",
       "  \" fill=\"#009af9\" fill-rule=\"evenodd\" fill-opacity=\"1\"/>\n",
       "<polyline clip-path=\"url(#clip5302)\" style=\"stroke:#000000; stroke-width:4; stroke-opacity:1; fill:none\" points=\"\n",
       "  1283.57,1446.71 1283.57,1446.71 1370.51,1446.71 1283.57,1446.71 \n",
       "  \"/>\n",
       "<path clip-path=\"url(#clip5302)\" d=\"\n",
       "M1370.51 1446.71 L1370.51 1446.71 L1457.46 1446.71 L1457.46 1446.71 L1370.51 1446.71 L1370.51 1446.71  Z\n",
       "  \" fill=\"#009af9\" fill-rule=\"evenodd\" fill-opacity=\"1\"/>\n",
       "<polyline clip-path=\"url(#clip5302)\" style=\"stroke:#000000; stroke-width:4; stroke-opacity:1; fill:none\" points=\"\n",
       "  1370.51,1446.71 1370.51,1446.71 1457.46,1446.71 1370.51,1446.71 \n",
       "  \"/>\n",
       "<path clip-path=\"url(#clip5302)\" d=\"\n",
       "M1457.46 1446.71 L1457.46 1446.71 L1544.4 1446.71 L1544.4 1446.71 L1457.46 1446.71 L1457.46 1446.71  Z\n",
       "  \" fill=\"#009af9\" fill-rule=\"evenodd\" fill-opacity=\"1\"/>\n",
       "<polyline clip-path=\"url(#clip5302)\" style=\"stroke:#000000; stroke-width:4; stroke-opacity:1; fill:none\" points=\"\n",
       "  1457.46,1446.71 1457.46,1446.71 1544.4,1446.71 1457.46,1446.71 \n",
       "  \"/>\n",
       "<path clip-path=\"url(#clip5302)\" d=\"\n",
       "M1544.4 1446.71 L1544.4 1446.71 L1631.34 1446.71 L1631.34 1446.71 L1544.4 1446.71 L1544.4 1446.71  Z\n",
       "  \" fill=\"#009af9\" fill-rule=\"evenodd\" fill-opacity=\"1\"/>\n",
       "<polyline clip-path=\"url(#clip5302)\" style=\"stroke:#000000; stroke-width:4; stroke-opacity:1; fill:none\" points=\"\n",
       "  1544.4,1446.71 1544.4,1446.71 1631.34,1446.71 1544.4,1446.71 \n",
       "  \"/>\n",
       "<path clip-path=\"url(#clip5302)\" d=\"\n",
       "M1631.34 1446.71 L1631.34 1446.71 L1718.28 1446.71 L1718.28 1446.71 L1631.34 1446.71 L1631.34 1446.71  Z\n",
       "  \" fill=\"#009af9\" fill-rule=\"evenodd\" fill-opacity=\"1\"/>\n",
       "<polyline clip-path=\"url(#clip5302)\" style=\"stroke:#000000; stroke-width:4; stroke-opacity:1; fill:none\" points=\"\n",
       "  1631.34,1446.71 1631.34,1446.71 1718.28,1446.71 1631.34,1446.71 \n",
       "  \"/>\n",
       "<path clip-path=\"url(#clip5302)\" d=\"\n",
       "M1718.28 1446.71 L1718.28 1446.71 L1805.22 1446.71 L1805.22 1446.71 L1718.28 1446.71 L1718.28 1446.71  Z\n",
       "  \" fill=\"#009af9\" fill-rule=\"evenodd\" fill-opacity=\"1\"/>\n",
       "<polyline clip-path=\"url(#clip5302)\" style=\"stroke:#000000; stroke-width:4; stroke-opacity:1; fill:none\" points=\"\n",
       "  1718.28,1446.71 1718.28,1446.71 1805.22,1446.71 1718.28,1446.71 \n",
       "  \"/>\n",
       "<path clip-path=\"url(#clip5302)\" d=\"\n",
       "M1805.22 1446.71 L1805.22 1446.71 L1892.16 1446.71 L1892.16 1446.71 L1805.22 1446.71 L1805.22 1446.71  Z\n",
       "  \" fill=\"#009af9\" fill-rule=\"evenodd\" fill-opacity=\"1\"/>\n",
       "<polyline clip-path=\"url(#clip5302)\" style=\"stroke:#000000; stroke-width:4; stroke-opacity:1; fill:none\" points=\"\n",
       "  1805.22,1446.71 1805.22,1446.71 1892.16,1446.71 1805.22,1446.71 \n",
       "  \"/>\n",
       "<path clip-path=\"url(#clip5302)\" d=\"\n",
       "M1892.16 1446.71 L1892.16 1446.71 L1979.1 1446.71 L1979.1 1446.71 L1892.16 1446.71 L1892.16 1446.71  Z\n",
       "  \" fill=\"#009af9\" fill-rule=\"evenodd\" fill-opacity=\"1\"/>\n",
       "<polyline clip-path=\"url(#clip5302)\" style=\"stroke:#000000; stroke-width:4; stroke-opacity:1; fill:none\" points=\"\n",
       "  1892.16,1446.71 1892.16,1446.71 1979.1,1446.71 1892.16,1446.71 \n",
       "  \"/>\n",
       "<path clip-path=\"url(#clip5302)\" d=\"\n",
       "M1979.1 1446.71 L1979.1 1446.71 L2066.04 1446.71 L2066.04 1446.71 L1979.1 1446.71 L1979.1 1446.71  Z\n",
       "  \" fill=\"#009af9\" fill-rule=\"evenodd\" fill-opacity=\"1\"/>\n",
       "<polyline clip-path=\"url(#clip5302)\" style=\"stroke:#000000; stroke-width:4; stroke-opacity:1; fill:none\" points=\"\n",
       "  1979.1,1446.71 1979.1,1446.71 2066.04,1446.71 1979.1,1446.71 \n",
       "  \"/>\n",
       "<path clip-path=\"url(#clip5302)\" d=\"\n",
       "M2066.04 1446.71 L2066.04 1446.71 L2152.98 1446.71 L2152.98 1446.71 L2066.04 1446.71 L2066.04 1446.71  Z\n",
       "  \" fill=\"#009af9\" fill-rule=\"evenodd\" fill-opacity=\"1\"/>\n",
       "<polyline clip-path=\"url(#clip5302)\" style=\"stroke:#000000; stroke-width:4; stroke-opacity:1; fill:none\" points=\"\n",
       "  2066.04,1446.71 2066.04,1446.71 2152.98,1446.71 2066.04,1446.71 \n",
       "  \"/>\n",
       "<path clip-path=\"url(#clip5302)\" d=\"\n",
       "M2152.98 1444.36 L2152.98 1446.71 L2239.92 1446.71 L2239.92 1444.36 L2152.98 1444.36 L2152.98 1444.36  Z\n",
       "  \" fill=\"#009af9\" fill-rule=\"evenodd\" fill-opacity=\"1\"/>\n",
       "<polyline clip-path=\"url(#clip5302)\" style=\"stroke:#000000; stroke-width:4; stroke-opacity:1; fill:none\" points=\"\n",
       "  2152.98,1444.36 2152.98,1446.71 2239.92,1446.71 2239.92,1444.36 2152.98,1444.36 \n",
       "  \"/>\n",
       "<path clip-path=\"url(#clip5300)\" d=\"\n",
       "M1989.93 251.724 L2280.76 251.724 L2280.76 130.764 L1989.93 130.764  Z\n",
       "  \" fill=\"#ffffff\" fill-rule=\"evenodd\" fill-opacity=\"1\"/>\n",
       "<polyline clip-path=\"url(#clip5300)\" style=\"stroke:#000000; stroke-width:4; stroke-opacity:1; fill:none\" points=\"\n",
       "  1989.93,251.724 2280.76,251.724 2280.76,130.764 1989.93,130.764 1989.93,251.724 \n",
       "  \"/>\n",
       "<path clip-path=\"url(#clip5300)\" d=\"\n",
       "M2013.93 215.436 L2157.93 215.436 L2157.93 167.052 L2013.93 167.052 L2013.93 215.436  Z\n",
       "  \" fill=\"#009af9\" fill-rule=\"evenodd\" fill-opacity=\"1\"/>\n",
       "<polyline clip-path=\"url(#clip5300)\" style=\"stroke:#000000; stroke-width:4; stroke-opacity:1; fill:none\" points=\"\n",
       "  2013.93,215.436 2157.93,215.436 2157.93,167.052 2013.93,167.052 2013.93,215.436 \n",
       "  \"/>\n",
       "<g clip-path=\"url(#clip5300)\">\n",
       "<text style=\"fill:#000000; fill-opacity:1; font-family:Arial,Helvetica Neue,Helvetica,sans-serif; font-size:48px; text-anchor:start;\" transform=\"rotate(0, 2181.93, 208.744)\" x=\"2181.93\" y=\"208.744\">y1</text>\n",
       "</g>\n",
       "</svg>\n"
      ]
     },
     "execution_count": 5,
     "metadata": {},
     "output_type": "execute_result"
    }
   ],
   "source": [
    "histogram(df[!, :Class])"
   ]
  },
  {
   "cell_type": "code",
   "execution_count": 16,
   "metadata": {},
   "outputs": [
    {
     "data": {
      "text/plain": [
       "Dict{Int64,Int64} with 2 entries:\n",
       "  0 => 284315\n",
       "  1 => 492"
      ]
     },
     "execution_count": 16,
     "metadata": {},
     "output_type": "execute_result"
    }
   ],
   "source": [
    "countmap(df[!, :Class])"
   ]
  },
  {
   "cell_type": "code",
   "execution_count": 110,
   "metadata": {
    "scrolled": false
   },
   "outputs": [
    {
     "data": {
      "text/plain": [
       "284807-element Array{Int64,1}:\n",
       " 0\n",
       " 0\n",
       " 0\n",
       " 0\n",
       " 0\n",
       " 0\n",
       " 0\n",
       " 0\n",
       " 0\n",
       " 0\n",
       " 0\n",
       " 0\n",
       " 0\n",
       " ⋮\n",
       " 0\n",
       " 0\n",
       " 0\n",
       " 0\n",
       " 0\n",
       " 0\n",
       " 0\n",
       " 0\n",
       " 0\n",
       " 0\n",
       " 0\n",
       " 0"
      ]
     },
     "execution_count": 110,
     "metadata": {},
     "output_type": "execute_result"
    }
   ],
   "source": [
    "#The dataset is highly unbalanced, lets treat it, I will separe the classes and undersample the\n",
    "# 0 class\n",
    "\n",
    "X = convert(Array, df[!, Not(:Class)])\n",
    "y = convert(Array, df[!, :Class])"
   ]
  },
  {
   "cell_type": "code",
   "execution_count": 121,
   "metadata": {},
   "outputs": [
    {
     "data": {
      "text/plain": [
       "([134769.0 119383.0 … 153761.0 155965.0; -0.967767 2.13467 … 1.14626 -1.2014; … ; 0.162777 -0.0114281 … 0.243744 -0.0531328; 925.31 19.99 … 51.37 0.77], [1, 0, 0, 1, 0, 0, 1, 0, 1, 0  …  1, 1, 1, 1, 0, 0, 1, 0, 1, 1])"
      ]
     },
     "execution_count": 121,
     "metadata": {},
     "output_type": "execute_result"
    }
   ],
   "source": [
    "#Balancing the dataset using undersample\n",
    "Xb, yb = undersample((transpose(X), y), shuffle = true)\n"
   ]
  },
  {
   "cell_type": "code",
   "execution_count": 122,
   "metadata": {
    "scrolled": true
   },
   "outputs": [
    {
     "data": {
      "image/svg+xml": [
       "<?xml version=\"1.0\" encoding=\"utf-8\"?>\n",
       "<svg xmlns=\"http://www.w3.org/2000/svg\" xmlns:xlink=\"http://www.w3.org/1999/xlink\" width=\"600\" height=\"400\" viewBox=\"0 0 2400 1600\">\n",
       "<defs>\n",
       "  <clipPath id=\"clip6100\">\n",
       "    <rect x=\"0\" y=\"0\" width=\"2400\" height=\"1600\"/>\n",
       "  </clipPath>\n",
       "</defs>\n",
       "<path clip-path=\"url(#clip6100)\" d=\"\n",
       "M0 1600 L2400 1600 L2400 0 L0 0  Z\n",
       "  \" fill=\"#ffffff\" fill-rule=\"evenodd\" fill-opacity=\"1\"/>\n",
       "<defs>\n",
       "  <clipPath id=\"clip6101\">\n",
       "    <rect x=\"480\" y=\"0\" width=\"1681\" height=\"1600\"/>\n",
       "  </clipPath>\n",
       "</defs>\n",
       "<path clip-path=\"url(#clip6100)\" d=\"\n",
       "M167.279 1487.47 L2352.76 1487.47 L2352.76 47.2441 L167.279 47.2441  Z\n",
       "  \" fill=\"#ffffff\" fill-rule=\"evenodd\" fill-opacity=\"1\"/>\n",
       "<defs>\n",
       "  <clipPath id=\"clip6102\">\n",
       "    <rect x=\"167\" y=\"47\" width=\"2186\" height=\"1441\"/>\n",
       "  </clipPath>\n",
       "</defs>\n",
       "<polyline clip-path=\"url(#clip6102)\" style=\"stroke:#000000; stroke-width:2; stroke-opacity:0.1; fill:none\" points=\"\n",
       "  287.484,1487.47 287.484,47.2441 \n",
       "  \"/>\n",
       "<polyline clip-path=\"url(#clip6102)\" style=\"stroke:#000000; stroke-width:2; stroke-opacity:0.1; fill:none\" points=\"\n",
       "  611.662,1487.47 611.662,47.2441 \n",
       "  \"/>\n",
       "<polyline clip-path=\"url(#clip6102)\" style=\"stroke:#000000; stroke-width:2; stroke-opacity:0.1; fill:none\" points=\"\n",
       "  935.84,1487.47 935.84,47.2441 \n",
       "  \"/>\n",
       "<polyline clip-path=\"url(#clip6102)\" style=\"stroke:#000000; stroke-width:2; stroke-opacity:0.1; fill:none\" points=\"\n",
       "  1260.02,1487.47 1260.02,47.2441 \n",
       "  \"/>\n",
       "<polyline clip-path=\"url(#clip6102)\" style=\"stroke:#000000; stroke-width:2; stroke-opacity:0.1; fill:none\" points=\"\n",
       "  1584.2,1487.47 1584.2,47.2441 \n",
       "  \"/>\n",
       "<polyline clip-path=\"url(#clip6102)\" style=\"stroke:#000000; stroke-width:2; stroke-opacity:0.1; fill:none\" points=\"\n",
       "  1908.37,1487.47 1908.37,47.2441 \n",
       "  \"/>\n",
       "<polyline clip-path=\"url(#clip6102)\" style=\"stroke:#000000; stroke-width:2; stroke-opacity:0.1; fill:none\" points=\"\n",
       "  1908.37,1487.47 1908.37,47.2441 \n",
       "  \"/>\n",
       "<polyline clip-path=\"url(#clip6102)\" style=\"stroke:#000000; stroke-width:2; stroke-opacity:0.1; fill:none\" points=\"\n",
       "  167.279,1446.71 2352.76,1446.71 \n",
       "  \"/>\n",
       "<polyline clip-path=\"url(#clip6102)\" style=\"stroke:#000000; stroke-width:2; stroke-opacity:0.1; fill:none\" points=\"\n",
       "  167.279,1170.55 2352.76,1170.55 \n",
       "  \"/>\n",
       "<polyline clip-path=\"url(#clip6102)\" style=\"stroke:#000000; stroke-width:2; stroke-opacity:0.1; fill:none\" points=\"\n",
       "  167.279,894.393 2352.76,894.393 \n",
       "  \"/>\n",
       "<polyline clip-path=\"url(#clip6102)\" style=\"stroke:#000000; stroke-width:2; stroke-opacity:0.1; fill:none\" points=\"\n",
       "  167.279,618.233 2352.76,618.233 \n",
       "  \"/>\n",
       "<polyline clip-path=\"url(#clip6102)\" style=\"stroke:#000000; stroke-width:2; stroke-opacity:0.1; fill:none\" points=\"\n",
       "  167.279,342.073 2352.76,342.073 \n",
       "  \"/>\n",
       "<polyline clip-path=\"url(#clip6102)\" style=\"stroke:#000000; stroke-width:2; stroke-opacity:0.1; fill:none\" points=\"\n",
       "  167.279,65.9125 2352.76,65.9125 \n",
       "  \"/>\n",
       "<polyline clip-path=\"url(#clip6100)\" style=\"stroke:#000000; stroke-width:4; stroke-opacity:1; fill:none\" points=\"\n",
       "  167.279,1487.47 2352.76,1487.47 \n",
       "  \"/>\n",
       "<polyline clip-path=\"url(#clip6100)\" style=\"stroke:#000000; stroke-width:4; stroke-opacity:1; fill:none\" points=\"\n",
       "  167.279,1487.47 167.279,47.2441 \n",
       "  \"/>\n",
       "<polyline clip-path=\"url(#clip6100)\" style=\"stroke:#000000; stroke-width:4; stroke-opacity:1; fill:none\" points=\"\n",
       "  287.484,1487.47 287.484,1470.19 \n",
       "  \"/>\n",
       "<polyline clip-path=\"url(#clip6100)\" style=\"stroke:#000000; stroke-width:4; stroke-opacity:1; fill:none\" points=\"\n",
       "  611.662,1487.47 611.662,1470.19 \n",
       "  \"/>\n",
       "<polyline clip-path=\"url(#clip6100)\" style=\"stroke:#000000; stroke-width:4; stroke-opacity:1; fill:none\" points=\"\n",
       "  935.84,1487.47 935.84,1470.19 \n",
       "  \"/>\n",
       "<polyline clip-path=\"url(#clip6100)\" style=\"stroke:#000000; stroke-width:4; stroke-opacity:1; fill:none\" points=\"\n",
       "  1260.02,1487.47 1260.02,1470.19 \n",
       "  \"/>\n",
       "<polyline clip-path=\"url(#clip6100)\" style=\"stroke:#000000; stroke-width:4; stroke-opacity:1; fill:none\" points=\"\n",
       "  1584.2,1487.47 1584.2,1470.19 \n",
       "  \"/>\n",
       "<polyline clip-path=\"url(#clip6100)\" style=\"stroke:#000000; stroke-width:4; stroke-opacity:1; fill:none\" points=\"\n",
       "  1908.37,1487.47 1908.37,1470.19 \n",
       "  \"/>\n",
       "<polyline clip-path=\"url(#clip6100)\" style=\"stroke:#000000; stroke-width:4; stroke-opacity:1; fill:none\" points=\"\n",
       "  1908.37,1487.47 1908.37,1470.19 \n",
       "  \"/>\n",
       "<polyline clip-path=\"url(#clip6100)\" style=\"stroke:#000000; stroke-width:4; stroke-opacity:1; fill:none\" points=\"\n",
       "  167.279,1446.71 193.505,1446.71 \n",
       "  \"/>\n",
       "<polyline clip-path=\"url(#clip6100)\" style=\"stroke:#000000; stroke-width:4; stroke-opacity:1; fill:none\" points=\"\n",
       "  167.279,1170.55 193.505,1170.55 \n",
       "  \"/>\n",
       "<polyline clip-path=\"url(#clip6100)\" style=\"stroke:#000000; stroke-width:4; stroke-opacity:1; fill:none\" points=\"\n",
       "  167.279,894.393 193.505,894.393 \n",
       "  \"/>\n",
       "<polyline clip-path=\"url(#clip6100)\" style=\"stroke:#000000; stroke-width:4; stroke-opacity:1; fill:none\" points=\"\n",
       "  167.279,618.233 193.505,618.233 \n",
       "  \"/>\n",
       "<polyline clip-path=\"url(#clip6100)\" style=\"stroke:#000000; stroke-width:4; stroke-opacity:1; fill:none\" points=\"\n",
       "  167.279,342.073 193.505,342.073 \n",
       "  \"/>\n",
       "<polyline clip-path=\"url(#clip6100)\" style=\"stroke:#000000; stroke-width:4; stroke-opacity:1; fill:none\" points=\"\n",
       "  167.279,65.9125 193.505,65.9125 \n",
       "  \"/>\n",
       "<g clip-path=\"url(#clip6100)\">\n",
       "<text style=\"fill:#000000; fill-opacity:1; font-family:Arial,Helvetica Neue,Helvetica,sans-serif; font-size:48px; text-anchor:middle;\" transform=\"rotate(0, 287.484, 1541.47)\" x=\"287.484\" y=\"1541.47\">0.0</text>\n",
       "</g>\n",
       "<g clip-path=\"url(#clip6100)\">\n",
       "<text style=\"fill:#000000; fill-opacity:1; font-family:Arial,Helvetica Neue,Helvetica,sans-serif; font-size:48px; text-anchor:middle;\" transform=\"rotate(0, 611.662, 1541.47)\" x=\"611.662\" y=\"1541.47\">0.2</text>\n",
       "</g>\n",
       "<g clip-path=\"url(#clip6100)\">\n",
       "<text style=\"fill:#000000; fill-opacity:1; font-family:Arial,Helvetica Neue,Helvetica,sans-serif; font-size:48px; text-anchor:middle;\" transform=\"rotate(0, 935.84, 1541.47)\" x=\"935.84\" y=\"1541.47\">0.4</text>\n",
       "</g>\n",
       "<g clip-path=\"url(#clip6100)\">\n",
       "<text style=\"fill:#000000; fill-opacity:1; font-family:Arial,Helvetica Neue,Helvetica,sans-serif; font-size:48px; text-anchor:middle;\" transform=\"rotate(0, 1260.02, 1541.47)\" x=\"1260.02\" y=\"1541.47\">0.6</text>\n",
       "</g>\n",
       "<g clip-path=\"url(#clip6100)\">\n",
       "<text style=\"fill:#000000; fill-opacity:1; font-family:Arial,Helvetica Neue,Helvetica,sans-serif; font-size:48px; text-anchor:middle;\" transform=\"rotate(0, 1584.2, 1541.47)\" x=\"1584.2\" y=\"1541.47\">0.8</text>\n",
       "</g>\n",
       "<g clip-path=\"url(#clip6100)\">\n",
       "<text style=\"fill:#000000; fill-opacity:1; font-family:Arial,Helvetica Neue,Helvetica,sans-serif; font-size:48px; text-anchor:middle;\" transform=\"rotate(0, 1908.37, 1541.47)\" x=\"1908.37\" y=\"1541.47\">1.0</text>\n",
       "</g>\n",
       "<g clip-path=\"url(#clip6100)\">\n",
       "<text style=\"fill:#000000; fill-opacity:1; font-family:Arial,Helvetica Neue,Helvetica,sans-serif; font-size:48px; text-anchor:middle;\" transform=\"rotate(0, 1908.37, 1541.47)\" x=\"1908.37\" y=\"1541.47\">1.0</text>\n",
       "</g>\n",
       "<g clip-path=\"url(#clip6100)\">\n",
       "<text style=\"fill:#000000; fill-opacity:1; font-family:Arial,Helvetica Neue,Helvetica,sans-serif; font-size:48px; text-anchor:end;\" transform=\"rotate(0, 143.279, 1464.21)\" x=\"143.279\" y=\"1464.21\">0</text>\n",
       "</g>\n",
       "<g clip-path=\"url(#clip6100)\">\n",
       "<text style=\"fill:#000000; fill-opacity:1; font-family:Arial,Helvetica Neue,Helvetica,sans-serif; font-size:48px; text-anchor:end;\" transform=\"rotate(0, 143.279, 1188.05)\" x=\"143.279\" y=\"1188.05\">100</text>\n",
       "</g>\n",
       "<g clip-path=\"url(#clip6100)\">\n",
       "<text style=\"fill:#000000; fill-opacity:1; font-family:Arial,Helvetica Neue,Helvetica,sans-serif; font-size:48px; text-anchor:end;\" transform=\"rotate(0, 143.279, 911.893)\" x=\"143.279\" y=\"911.893\">200</text>\n",
       "</g>\n",
       "<g clip-path=\"url(#clip6100)\">\n",
       "<text style=\"fill:#000000; fill-opacity:1; font-family:Arial,Helvetica Neue,Helvetica,sans-serif; font-size:48px; text-anchor:end;\" transform=\"rotate(0, 143.279, 635.733)\" x=\"143.279\" y=\"635.733\">300</text>\n",
       "</g>\n",
       "<g clip-path=\"url(#clip6100)\">\n",
       "<text style=\"fill:#000000; fill-opacity:1; font-family:Arial,Helvetica Neue,Helvetica,sans-serif; font-size:48px; text-anchor:end;\" transform=\"rotate(0, 143.279, 359.573)\" x=\"143.279\" y=\"359.573\">400</text>\n",
       "</g>\n",
       "<g clip-path=\"url(#clip6100)\">\n",
       "<text style=\"fill:#000000; fill-opacity:1; font-family:Arial,Helvetica Neue,Helvetica,sans-serif; font-size:48px; text-anchor:end;\" transform=\"rotate(0, 143.279, 83.4125)\" x=\"143.279\" y=\"83.4125\">500</text>\n",
       "</g>\n",
       "<path clip-path=\"url(#clip6102)\" d=\"\n",
       "M287.484 88.0053 L287.484 1446.71 L611.662 1446.71 L611.662 88.0053 L287.484 88.0053 L287.484 88.0053  Z\n",
       "  \" fill=\"#009af9\" fill-rule=\"evenodd\" fill-opacity=\"1\"/>\n",
       "<polyline clip-path=\"url(#clip6102)\" style=\"stroke:#000000; stroke-width:4; stroke-opacity:1; fill:none\" points=\"\n",
       "  287.484,88.0053 287.484,1446.71 611.662,1446.71 611.662,88.0053 287.484,88.0053 \n",
       "  \"/>\n",
       "<path clip-path=\"url(#clip6102)\" d=\"\n",
       "M611.662 1446.71 L611.662 1446.71 L935.84 1446.71 L935.84 1446.71 L611.662 1446.71 L611.662 1446.71  Z\n",
       "  \" fill=\"#009af9\" fill-rule=\"evenodd\" fill-opacity=\"1\"/>\n",
       "<polyline clip-path=\"url(#clip6102)\" style=\"stroke:#000000; stroke-width:4; stroke-opacity:1; fill:none\" points=\"\n",
       "  611.662,1446.71 611.662,1446.71 935.84,1446.71 611.662,1446.71 \n",
       "  \"/>\n",
       "<path clip-path=\"url(#clip6102)\" d=\"\n",
       "M935.84 1446.71 L935.84 1446.71 L1260.02 1446.71 L1260.02 1446.71 L935.84 1446.71 L935.84 1446.71  Z\n",
       "  \" fill=\"#009af9\" fill-rule=\"evenodd\" fill-opacity=\"1\"/>\n",
       "<polyline clip-path=\"url(#clip6102)\" style=\"stroke:#000000; stroke-width:4; stroke-opacity:1; fill:none\" points=\"\n",
       "  935.84,1446.71 935.84,1446.71 1260.02,1446.71 935.84,1446.71 \n",
       "  \"/>\n",
       "<path clip-path=\"url(#clip6102)\" d=\"\n",
       "M1260.02 1446.71 L1260.02 1446.71 L1584.2 1446.71 L1584.2 1446.71 L1260.02 1446.71 L1260.02 1446.71  Z\n",
       "  \" fill=\"#009af9\" fill-rule=\"evenodd\" fill-opacity=\"1\"/>\n",
       "<polyline clip-path=\"url(#clip6102)\" style=\"stroke:#000000; stroke-width:4; stroke-opacity:1; fill:none\" points=\"\n",
       "  1260.02,1446.71 1260.02,1446.71 1584.2,1446.71 1260.02,1446.71 \n",
       "  \"/>\n",
       "<path clip-path=\"url(#clip6102)\" d=\"\n",
       "M1584.2 1446.71 L1584.2 1446.71 L1908.37 1446.71 L1908.37 1446.71 L1584.2 1446.71 L1584.2 1446.71  Z\n",
       "  \" fill=\"#009af9\" fill-rule=\"evenodd\" fill-opacity=\"1\"/>\n",
       "<polyline clip-path=\"url(#clip6102)\" style=\"stroke:#000000; stroke-width:4; stroke-opacity:1; fill:none\" points=\"\n",
       "  1584.2,1446.71 1584.2,1446.71 1908.37,1446.71 1584.2,1446.71 \n",
       "  \"/>\n",
       "<path clip-path=\"url(#clip6102)\" d=\"\n",
       "M1908.37 88.0053 L1908.37 1446.71 L2232.55 1446.71 L2232.55 88.0053 L1908.37 88.0053 L1908.37 88.0053  Z\n",
       "  \" fill=\"#009af9\" fill-rule=\"evenodd\" fill-opacity=\"1\"/>\n",
       "<polyline clip-path=\"url(#clip6102)\" style=\"stroke:#000000; stroke-width:4; stroke-opacity:1; fill:none\" points=\"\n",
       "  1908.37,88.0053 1908.37,1446.71 2232.55,1446.71 2232.55,88.0053 1908.37,88.0053 \n",
       "  \"/>\n",
       "<path clip-path=\"url(#clip6100)\" d=\"\n",
       "M1989.93 251.724 L2280.76 251.724 L2280.76 130.764 L1989.93 130.764  Z\n",
       "  \" fill=\"#ffffff\" fill-rule=\"evenodd\" fill-opacity=\"1\"/>\n",
       "<polyline clip-path=\"url(#clip6100)\" style=\"stroke:#000000; stroke-width:4; stroke-opacity:1; fill:none\" points=\"\n",
       "  1989.93,251.724 2280.76,251.724 2280.76,130.764 1989.93,130.764 1989.93,251.724 \n",
       "  \"/>\n",
       "<path clip-path=\"url(#clip6100)\" d=\"\n",
       "M2013.93 215.436 L2157.93 215.436 L2157.93 167.052 L2013.93 167.052 L2013.93 215.436  Z\n",
       "  \" fill=\"#009af9\" fill-rule=\"evenodd\" fill-opacity=\"1\"/>\n",
       "<polyline clip-path=\"url(#clip6100)\" style=\"stroke:#000000; stroke-width:4; stroke-opacity:1; fill:none\" points=\"\n",
       "  2013.93,215.436 2157.93,215.436 2157.93,167.052 2013.93,167.052 2013.93,215.436 \n",
       "  \"/>\n",
       "<g clip-path=\"url(#clip6100)\">\n",
       "<text style=\"fill:#000000; fill-opacity:1; font-family:Arial,Helvetica Neue,Helvetica,sans-serif; font-size:48px; text-anchor:start;\" transform=\"rotate(0, 2181.93, 208.744)\" x=\"2181.93\" y=\"208.744\">y1</text>\n",
       "</g>\n",
       "</svg>\n"
      ]
     },
     "execution_count": 122,
     "metadata": {},
     "output_type": "execute_result"
    }
   ],
   "source": [
    "#Now checking the balance\n",
    "histogram(yb)"
   ]
  },
  {
   "cell_type": "code",
   "execution_count": 150,
   "metadata": {},
   "outputs": [
    {
     "data": {
      "text/plain": [
       "([134769.0 119383.0 … 103808.0 21419.0; -0.967767 2.13467 … -4.51734 -17.4677; … ; 925.31 19.99 … 2.27 1.0; 1.0 0.0 … 1.0 1.0], [52048.0 155548.0 … 153761.0 155965.0; 1.16199 1.87823 … 1.14626 -1.2014; … ; 0.25 7.06 … 51.37 0.77; 0.0 1.0 … 1.0 1.0])"
      ]
     },
     "execution_count": 150,
     "metadata": {},
     "output_type": "execute_result"
    }
   ],
   "source": [
    "#Now it seems ok, lets proceed with the models\n",
    "#Concatenating balanced datasets and spliting in train and test\n",
    "\n",
    "data = hcat(transpose(Xb),yb)\n",
    "train, test = splitobs(transpose(data), at = 0.7)"
   ]
  },
  {
   "cell_type": "code",
   "execution_count": 154,
   "metadata": {},
   "outputs": [
    {
     "data": {
      "text/plain": [
       "295×31 LinearAlgebra.Transpose{Float64,SubArray{Float64,2,LinearAlgebra.Transpose{Float64,Array{Float64,2}},Tuple{Base.Slice{Base.OneTo{Int64}},UnitRange{Int64}},false}}:\n",
       "  52048.0    1.16199    0.0310588    1.13451    …   0.0235146     0.25  0.0\n",
       " 155548.0    1.87823    1.32563     -2.33347        0.00523767    7.06  1.0\n",
       "  48925.0   -1.02228    0.8982       0.771527       0.00940299   89.99  0.0\n",
       "  12597.0   -2.58962    7.01671    -13.7054         0.789687      1.0   1.0\n",
       "  93879.0  -12.8336     7.50879    -20.492         -0.720557    104.03  1.0\n",
       " 134983.0    1.90249   -0.504231    -0.331407   …  -0.0359467    56.0   0.0\n",
       "  84694.0   -4.86811    1.26442     -5.16789       -0.127944     12.31  1.0\n",
       " 116166.0   -0.173582   0.126423     0.62324       -0.0958664    29.0   0.0\n",
       "  18690.0  -15.3988     7.47232    -19.0269        -1.17806       1.0   1.0\n",
       " 132121.0    2.28389   -0.771573    -1.60529       -0.0645799     3.95  0.0\n",
       "  25095.0    1.1924     1.33897     -0.678876   …   0.0736054     3.12  1.0\n",
       " 130476.0   -0.63197    1.74979     -0.0570289      0.0822453    46.03  0.0\n",
       " 102318.0   -1.02063    1.49696     -4.49094       -0.0200895    22.04  1.0\n",
       "      ⋮                                         ⋱                       ⋮  \n",
       " 144808.0   -2.40521    2.94382     -7.61665       -0.469537    667.55  1.0\n",
       "  59853.0    1.17956   -0.62821      0.112887       0.0236336    93.0   0.0\n",
       "  26556.0  -19.1798    11.8179     -21.9192     …   0.484614     99.99  1.0\n",
       " 101313.0  -25.826     19.1672     -25.3902        -0.448413      2.28  1.0\n",
       "  44532.0   -0.234922   0.355413     1.97218        0.0395806     1.0   1.0\n",
       "  42985.0   -4.07597    0.963031    -5.07607        0.511462      1.0   1.0\n",
       "  51798.0   -0.778925   0.841055     1.93469        0.0482466    21.01  0.0\n",
       "  88513.0   -1.70063   -2.99092     -0.470973   …  -0.390125     15.0   0.0\n",
       "  45463.0   -1.47689    2.12231     -1.22947       -0.0475554     1.0   1.0\n",
       " 134604.0    1.9244    -0.439473    -1.86885       -0.0884936    29.95  0.0\n",
       " 153761.0    1.14626    1.40346     -4.15915        0.243744     51.37  1.0\n",
       " 155965.0   -1.2014     4.86454     -8.32882       -0.0531328     0.77  1.0"
      ]
     },
     "execution_count": 154,
     "metadata": {},
     "output_type": "execute_result"
    }
   ],
   "source": [
    "#We need transpose the matrix because of the return of splitobs\n",
    "train = transpose(train)\n",
    "test = transpose(test)"
   ]
  },
  {
   "cell_type": "code",
   "execution_count": 183,
   "metadata": {
    "scrolled": true
   },
   "outputs": [
    {
     "data": {
      "text/plain": [
       "295-element Array{Float64,1}:\n",
       " 0.0\n",
       " 1.0\n",
       " 0.0\n",
       " 1.0\n",
       " 1.0\n",
       " 0.0\n",
       " 1.0\n",
       " 0.0\n",
       " 1.0\n",
       " 0.0\n",
       " 1.0\n",
       " 0.0\n",
       " 1.0\n",
       " ⋮  \n",
       " 1.0\n",
       " 0.0\n",
       " 1.0\n",
       " 1.0\n",
       " 1.0\n",
       " 1.0\n",
       " 0.0\n",
       " 0.0\n",
       " 1.0\n",
       " 0.0\n",
       " 1.0\n",
       " 1.0"
      ]
     },
     "execution_count": 183,
     "metadata": {},
     "output_type": "execute_result"
    }
   ],
   "source": [
    "#Selecting features and labels from train and test dataset\n",
    "X_train = train[:, 1:30]\n",
    "y_train = train[:, 31]\n",
    "\n",
    "X_test = test[:, 1:30]\n",
    "y_test = test[:, 31]"
   ]
  },
  {
   "cell_type": "code",
   "execution_count": 179,
   "metadata": {},
   "outputs": [
    {
     "data": {
      "text/plain": [
       "Ensemble of Decision Trees\n",
       "Trees:      10\n",
       "Avg Leaves: 150.7\n",
       "Avg Depth:  18.7"
      ]
     },
     "execution_count": 179,
     "metadata": {},
     "output_type": "execute_result"
    }
   ],
   "source": [
    "#Random forest model\n",
    "model = build_forest(y, X)"
   ]
  },
  {
   "cell_type": "code",
   "execution_count": 193,
   "metadata": {},
   "outputs": [],
   "source": [
    "#Running the model\n",
    "test_results = Vector{Int32}()\n",
    "for i=1:size(X_test,1)\n",
    "    result = apply_forest(model, X_test[i,:])\n",
    "    append!(test_results, result)\n",
    "end"
   ]
  },
  {
   "cell_type": "code",
   "execution_count": 212,
   "metadata": {},
   "outputs": [],
   "source": [
    "#Accuracy\n",
    "hit = 0\n",
    "fail = 0\n",
    "for i=1:length(test_results)\n",
    "    if test_results[i] == y_test[i]\n",
    "        hit += 1\n",
    "    else\n",
    "        fail += 1\n",
    "    end\n",
    "end"
   ]
  },
  {
   "cell_type": "markdown",
   "metadata": {},
   "source": [
    "# Hits"
   ]
  },
  {
   "cell_type": "code",
   "execution_count": 215,
   "metadata": {},
   "outputs": [
    {
     "data": {
      "text/plain": [
       "283"
      ]
     },
     "execution_count": 215,
     "metadata": {},
     "output_type": "execute_result"
    }
   ],
   "source": [
    "hit"
   ]
  },
  {
   "cell_type": "markdown",
   "metadata": {},
   "source": [
    "# Fail"
   ]
  },
  {
   "cell_type": "code",
   "execution_count": 216,
   "metadata": {},
   "outputs": [
    {
     "data": {
      "text/plain": [
       "12"
      ]
     },
     "execution_count": 216,
     "metadata": {},
     "output_type": "execute_result"
    }
   ],
   "source": [
    "fail"
   ]
  },
  {
   "cell_type": "markdown",
   "metadata": {},
   "source": [
    "# Precision"
   ]
  },
  {
   "cell_type": "code",
   "execution_count": 217,
   "metadata": {},
   "outputs": [
    {
     "data": {
      "text/plain": [
       "0.9593220338983051"
      ]
     },
     "execution_count": 217,
     "metadata": {},
     "output_type": "execute_result"
    }
   ],
   "source": [
    "hit / (hit + fail)"
   ]
  },
  {
   "cell_type": "markdown",
   "metadata": {},
   "source": [
    "# Confusion Matrix"
   ]
  },
  {
   "cell_type": "code",
   "execution_count": 232,
   "metadata": {},
   "outputs": [
    {
     "data": {
      "text/plain": [
       "2×2 Array{Int64,2}:\n",
       " 145   0\n",
       " 138  12"
      ]
     },
     "execution_count": 232,
     "metadata": {},
     "output_type": "execute_result"
    }
   ],
   "source": [
    "[true_positives(y_test, test_results) false_positives(y_test, test_results); \n",
    " true_negatives(y_test, test_results) false_negatives(y_test, test_results)]"
   ]
  },
  {
   "cell_type": "markdown",
   "metadata": {},
   "source": [
    "# Test dataset balance"
   ]
  },
  {
   "cell_type": "code",
   "execution_count": 218,
   "metadata": {},
   "outputs": [
    {
     "data": {
      "image/svg+xml": [
       "<?xml version=\"1.0\" encoding=\"utf-8\"?>\n",
       "<svg xmlns=\"http://www.w3.org/2000/svg\" xmlns:xlink=\"http://www.w3.org/1999/xlink\" width=\"600\" height=\"400\" viewBox=\"0 0 2400 1600\">\n",
       "<defs>\n",
       "  <clipPath id=\"clip6500\">\n",
       "    <rect x=\"0\" y=\"0\" width=\"2400\" height=\"1600\"/>\n",
       "  </clipPath>\n",
       "</defs>\n",
       "<path clip-path=\"url(#clip6500)\" d=\"\n",
       "M0 1600 L2400 1600 L2400 0 L0 0  Z\n",
       "  \" fill=\"#ffffff\" fill-rule=\"evenodd\" fill-opacity=\"1\"/>\n",
       "<defs>\n",
       "  <clipPath id=\"clip6501\">\n",
       "    <rect x=\"480\" y=\"0\" width=\"1681\" height=\"1600\"/>\n",
       "  </clipPath>\n",
       "</defs>\n",
       "<path clip-path=\"url(#clip6500)\" d=\"\n",
       "M167.279 1487.47 L2352.76 1487.47 L2352.76 47.2441 L167.279 47.2441  Z\n",
       "  \" fill=\"#ffffff\" fill-rule=\"evenodd\" fill-opacity=\"1\"/>\n",
       "<defs>\n",
       "  <clipPath id=\"clip6502\">\n",
       "    <rect x=\"167\" y=\"47\" width=\"2186\" height=\"1441\"/>\n",
       "  </clipPath>\n",
       "</defs>\n",
       "<polyline clip-path=\"url(#clip6502)\" style=\"stroke:#000000; stroke-width:2; stroke-opacity:0.1; fill:none\" points=\"\n",
       "  287.484,1487.47 287.484,47.2441 \n",
       "  \"/>\n",
       "<polyline clip-path=\"url(#clip6502)\" style=\"stroke:#000000; stroke-width:2; stroke-opacity:0.1; fill:none\" points=\"\n",
       "  935.84,1487.47 935.84,47.2441 \n",
       "  \"/>\n",
       "<polyline clip-path=\"url(#clip6502)\" style=\"stroke:#000000; stroke-width:2; stroke-opacity:0.1; fill:none\" points=\"\n",
       "  1584.2,1487.47 1584.2,47.2441 \n",
       "  \"/>\n",
       "<polyline clip-path=\"url(#clip6502)\" style=\"stroke:#000000; stroke-width:2; stroke-opacity:0.1; fill:none\" points=\"\n",
       "  2232.55,1487.47 2232.55,47.2441 \n",
       "  \"/>\n",
       "<polyline clip-path=\"url(#clip6502)\" style=\"stroke:#000000; stroke-width:2; stroke-opacity:0.1; fill:none\" points=\"\n",
       "  167.279,1446.71 2352.76,1446.71 \n",
       "  \"/>\n",
       "<polyline clip-path=\"url(#clip6502)\" style=\"stroke:#000000; stroke-width:2; stroke-opacity:0.1; fill:none\" points=\"\n",
       "  167.279,1014 2352.76,1014 \n",
       "  \"/>\n",
       "<polyline clip-path=\"url(#clip6502)\" style=\"stroke:#000000; stroke-width:2; stroke-opacity:0.1; fill:none\" points=\"\n",
       "  167.279,581.294 2352.76,581.294 \n",
       "  \"/>\n",
       "<polyline clip-path=\"url(#clip6502)\" style=\"stroke:#000000; stroke-width:2; stroke-opacity:0.1; fill:none\" points=\"\n",
       "  167.279,148.585 2352.76,148.585 \n",
       "  \"/>\n",
       "<polyline clip-path=\"url(#clip6500)\" style=\"stroke:#000000; stroke-width:4; stroke-opacity:1; fill:none\" points=\"\n",
       "  167.279,1487.47 2352.76,1487.47 \n",
       "  \"/>\n",
       "<polyline clip-path=\"url(#clip6500)\" style=\"stroke:#000000; stroke-width:4; stroke-opacity:1; fill:none\" points=\"\n",
       "  167.279,1487.47 167.279,47.2441 \n",
       "  \"/>\n",
       "<polyline clip-path=\"url(#clip6500)\" style=\"stroke:#000000; stroke-width:4; stroke-opacity:1; fill:none\" points=\"\n",
       "  287.484,1487.47 287.484,1470.19 \n",
       "  \"/>\n",
       "<polyline clip-path=\"url(#clip6500)\" style=\"stroke:#000000; stroke-width:4; stroke-opacity:1; fill:none\" points=\"\n",
       "  935.84,1487.47 935.84,1470.19 \n",
       "  \"/>\n",
       "<polyline clip-path=\"url(#clip6500)\" style=\"stroke:#000000; stroke-width:4; stroke-opacity:1; fill:none\" points=\"\n",
       "  1584.2,1487.47 1584.2,1470.19 \n",
       "  \"/>\n",
       "<polyline clip-path=\"url(#clip6500)\" style=\"stroke:#000000; stroke-width:4; stroke-opacity:1; fill:none\" points=\"\n",
       "  2232.55,1487.47 2232.55,1470.19 \n",
       "  \"/>\n",
       "<polyline clip-path=\"url(#clip6500)\" style=\"stroke:#000000; stroke-width:4; stroke-opacity:1; fill:none\" points=\"\n",
       "  167.279,1446.71 193.505,1446.71 \n",
       "  \"/>\n",
       "<polyline clip-path=\"url(#clip6500)\" style=\"stroke:#000000; stroke-width:4; stroke-opacity:1; fill:none\" points=\"\n",
       "  167.279,1014 193.505,1014 \n",
       "  \"/>\n",
       "<polyline clip-path=\"url(#clip6500)\" style=\"stroke:#000000; stroke-width:4; stroke-opacity:1; fill:none\" points=\"\n",
       "  167.279,581.294 193.505,581.294 \n",
       "  \"/>\n",
       "<polyline clip-path=\"url(#clip6500)\" style=\"stroke:#000000; stroke-width:4; stroke-opacity:1; fill:none\" points=\"\n",
       "  167.279,148.585 193.505,148.585 \n",
       "  \"/>\n",
       "<g clip-path=\"url(#clip6500)\">\n",
       "<text style=\"fill:#000000; fill-opacity:1; font-family:Arial,Helvetica Neue,Helvetica,sans-serif; font-size:48px; text-anchor:middle;\" transform=\"rotate(0, 287.484, 1541.47)\" x=\"287.484\" y=\"1541.47\">0.0</text>\n",
       "</g>\n",
       "<g clip-path=\"url(#clip6500)\">\n",
       "<text style=\"fill:#000000; fill-opacity:1; font-family:Arial,Helvetica Neue,Helvetica,sans-serif; font-size:48px; text-anchor:middle;\" transform=\"rotate(0, 935.84, 1541.47)\" x=\"935.84\" y=\"1541.47\">0.5</text>\n",
       "</g>\n",
       "<g clip-path=\"url(#clip6500)\">\n",
       "<text style=\"fill:#000000; fill-opacity:1; font-family:Arial,Helvetica Neue,Helvetica,sans-serif; font-size:48px; text-anchor:middle;\" transform=\"rotate(0, 1584.2, 1541.47)\" x=\"1584.2\" y=\"1541.47\">1.0</text>\n",
       "</g>\n",
       "<g clip-path=\"url(#clip6500)\">\n",
       "<text style=\"fill:#000000; fill-opacity:1; font-family:Arial,Helvetica Neue,Helvetica,sans-serif; font-size:48px; text-anchor:middle;\" transform=\"rotate(0, 2232.55, 1541.47)\" x=\"2232.55\" y=\"1541.47\">1.5</text>\n",
       "</g>\n",
       "<g clip-path=\"url(#clip6500)\">\n",
       "<text style=\"fill:#000000; fill-opacity:1; font-family:Arial,Helvetica Neue,Helvetica,sans-serif; font-size:48px; text-anchor:end;\" transform=\"rotate(0, 143.279, 1464.21)\" x=\"143.279\" y=\"1464.21\">0</text>\n",
       "</g>\n",
       "<g clip-path=\"url(#clip6500)\">\n",
       "<text style=\"fill:#000000; fill-opacity:1; font-family:Arial,Helvetica Neue,Helvetica,sans-serif; font-size:48px; text-anchor:end;\" transform=\"rotate(0, 143.279, 1031.5)\" x=\"143.279\" y=\"1031.5\">50</text>\n",
       "</g>\n",
       "<g clip-path=\"url(#clip6500)\">\n",
       "<text style=\"fill:#000000; fill-opacity:1; font-family:Arial,Helvetica Neue,Helvetica,sans-serif; font-size:48px; text-anchor:end;\" transform=\"rotate(0, 143.279, 598.794)\" x=\"143.279\" y=\"598.794\">100</text>\n",
       "</g>\n",
       "<g clip-path=\"url(#clip6500)\">\n",
       "<text style=\"fill:#000000; fill-opacity:1; font-family:Arial,Helvetica Neue,Helvetica,sans-serif; font-size:48px; text-anchor:end;\" transform=\"rotate(0, 143.279, 166.085)\" x=\"143.279\" y=\"166.085\">150</text>\n",
       "</g>\n",
       "<path clip-path=\"url(#clip6502)\" d=\"\n",
       "M287.484 252.435 L287.484 1446.71 L935.84 1446.71 L935.84 252.435 L287.484 252.435 L287.484 252.435  Z\n",
       "  \" fill=\"#009af9\" fill-rule=\"evenodd\" fill-opacity=\"1\"/>\n",
       "<polyline clip-path=\"url(#clip6502)\" style=\"stroke:#000000; stroke-width:4; stroke-opacity:1; fill:none\" points=\"\n",
       "  287.484,252.435 287.484,1446.71 935.84,1446.71 935.84,252.435 287.484,252.435 \n",
       "  \"/>\n",
       "<path clip-path=\"url(#clip6502)\" d=\"\n",
       "M935.84 1446.71 L935.84 1446.71 L1584.2 1446.71 L1584.2 1446.71 L935.84 1446.71 L935.84 1446.71  Z\n",
       "  \" fill=\"#009af9\" fill-rule=\"evenodd\" fill-opacity=\"1\"/>\n",
       "<polyline clip-path=\"url(#clip6502)\" style=\"stroke:#000000; stroke-width:4; stroke-opacity:1; fill:none\" points=\"\n",
       "  935.84,1446.71 935.84,1446.71 1584.2,1446.71 935.84,1446.71 \n",
       "  \"/>\n",
       "<path clip-path=\"url(#clip6502)\" d=\"\n",
       "M1584.2 88.0053 L1584.2 1446.71 L2232.55 1446.71 L2232.55 88.0053 L1584.2 88.0053 L1584.2 88.0053  Z\n",
       "  \" fill=\"#009af9\" fill-rule=\"evenodd\" fill-opacity=\"1\"/>\n",
       "<polyline clip-path=\"url(#clip6502)\" style=\"stroke:#000000; stroke-width:4; stroke-opacity:1; fill:none\" points=\"\n",
       "  1584.2,88.0053 1584.2,1446.71 2232.55,1446.71 2232.55,88.0053 1584.2,88.0053 \n",
       "  \"/>\n",
       "<path clip-path=\"url(#clip6500)\" d=\"\n",
       "M1989.93 251.724 L2280.76 251.724 L2280.76 130.764 L1989.93 130.764  Z\n",
       "  \" fill=\"#ffffff\" fill-rule=\"evenodd\" fill-opacity=\"1\"/>\n",
       "<polyline clip-path=\"url(#clip6500)\" style=\"stroke:#000000; stroke-width:4; stroke-opacity:1; fill:none\" points=\"\n",
       "  1989.93,251.724 2280.76,251.724 2280.76,130.764 1989.93,130.764 1989.93,251.724 \n",
       "  \"/>\n",
       "<path clip-path=\"url(#clip6500)\" d=\"\n",
       "M2013.93 215.436 L2157.93 215.436 L2157.93 167.052 L2013.93 167.052 L2013.93 215.436  Z\n",
       "  \" fill=\"#009af9\" fill-rule=\"evenodd\" fill-opacity=\"1\"/>\n",
       "<polyline clip-path=\"url(#clip6500)\" style=\"stroke:#000000; stroke-width:4; stroke-opacity:1; fill:none\" points=\"\n",
       "  2013.93,215.436 2157.93,215.436 2157.93,167.052 2013.93,167.052 2013.93,215.436 \n",
       "  \"/>\n",
       "<g clip-path=\"url(#clip6500)\">\n",
       "<text style=\"fill:#000000; fill-opacity:1; font-family:Arial,Helvetica Neue,Helvetica,sans-serif; font-size:48px; text-anchor:start;\" transform=\"rotate(0, 2181.93, 208.744)\" x=\"2181.93\" y=\"208.744\">y1</text>\n",
       "</g>\n",
       "</svg>\n"
      ]
     },
     "execution_count": 218,
     "metadata": {},
     "output_type": "execute_result"
    }
   ],
   "source": [
    "histogram(y_test)"
   ]
  }
 ],
 "metadata": {
  "kernelspec": {
   "display_name": "Julia 1.0.5",
   "language": "julia",
   "name": "julia-1.0"
  },
  "language_info": {
   "file_extension": ".jl",
   "mimetype": "application/julia",
   "name": "julia",
   "version": "1.0.5"
  }
 },
 "nbformat": 4,
 "nbformat_minor": 4
}
